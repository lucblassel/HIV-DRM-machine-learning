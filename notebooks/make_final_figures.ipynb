{
 "cells": [
  {
   "cell_type": "code",
   "execution_count": 1,
   "metadata": {},
   "outputs": [],
   "source": [
    "import pandas as pd \n",
    "import seaborn as sns\n",
    "import matplotlib as mpl \n",
    "import matplotlib.pyplot as plt\n",
    "import numpy as np\n",
    "from statsmodels.stats.multitest import multipletests\n",
    "from scipy.stats import chi2\n",
    "from sklearn.metrics import balanced_accuracy_score, adjusted_mutual_info_score, brier_score_loss, mutual_info_score, accuracy_score\n",
    "from matplotlib.patches import Patch, Rectangle\n",
    "from matplotlib.lines import Line2D"
   ]
  },
  {
   "cell_type": "code",
   "execution_count": 2,
   "metadata": {},
   "outputs": [],
   "source": [
    "import os\n",
    "\n",
    "data_dir = \"../data\"\n",
    "all_preds_path = os.path.join(data_dir, \"results\", \"Base_results\", \"all_preds.tsv.gz\")\n",
    "proba_preds_path = os.path.join(data_dir, \"results\", \"Base_results\", \"preds_total.tsv.gz\")\n",
    "uk_metadata_path = os.path.join(data_dir, \"UK_dataset\", \"metadata.tsv.gz\")\n",
    "africa_metadata_path = os.path.join(data_dir, \"African_dataset\", \"metadata.tsv.gz\")"
   ]
  },
  {
   "cell_type": "code",
   "execution_count": 3,
   "metadata": {},
   "outputs": [
    {
     "name": "stderr",
     "output_type": "stream",
     "text": [
      "/usr/local/Caskroom/miniconda/base/envs/HIV/lib/python3.7/site-packages/ipykernel_launcher.py:3: FutureWarning: Sorting because non-concatenation axis is not aligned. A future version\n",
      "of pandas will change to not sort by default.\n",
      "\n",
      "To accept the future behavior, pass 'sort=False'.\n",
      "\n",
      "To retain the current behavior and silence the warning, pass 'sort=True'.\n",
      "\n",
      "  This is separate from the ipykernel package so we can avoid doing imports until\n"
     ]
    }
   ],
   "source": [
    "metadata = pd.concat([\n",
    "    pd.read_csv(path, sep=\"\\t\", index_col=0)\n",
    "    for path in [uk_metadata_path, africa_metadata_path]\n",
    "])\n",
    "metadata.index = metadata.index.astype(str)"
   ]
  },
  {
   "cell_type": "code",
   "execution_count": 4,
   "metadata": {},
   "outputs": [],
   "source": [
    "grouper = ['task', 'dataset', 'subtype', 'shorthand']\n",
    "task_order = ['all features\\nkept', 'DRM features\\nremoved', 'DRM features &\\nDRM sequences\\nremoved']"
   ]
  },
  {
   "cell_type": "code",
   "execution_count": 5,
   "metadata": {},
   "outputs": [],
   "source": [
    "dirname = 'whole_dataset_figure_results'\n",
    "if not os.path.isdir(dirname):\n",
    "    os.makedirs(dirname)"
   ]
  },
  {
   "cell_type": "markdown",
   "metadata": {},
   "source": [
    "# Data cleaning / pre-processing\n",
    "You can skip this if the data has already been cleaned and processed (use the generated files in the section below)"
   ]
  },
  {
   "cell_type": "code",
   "execution_count": 6,
   "metadata": {},
   "outputs": [
    {
     "name": "stderr",
     "output_type": "stream",
     "text": [
      "/usr/local/Caskroom/miniconda/base/envs/HIV/lib/python3.7/site-packages/IPython/core/interactiveshell.py:3063: DtypeWarning: Columns (0) have mixed types. Specify dtype option on import or set low_memory=False.\n",
      "  interactivity=interactivity, compiler=compiler, result=result)\n"
     ]
    }
   ],
   "source": [
    "all_preds = pd.read_csv(all_preds_path, sep='\\t', index_col=0)"
   ]
  },
  {
   "cell_type": "code",
   "execution_count": 7,
   "metadata": {},
   "outputs": [],
   "source": [
    "averaged = (all_preds.reset_index()\n",
    "    .groupby(grouper + ['index'])\n",
    "    .apply(lambda x: {k: round(x[k].mean()) for k in ['real', 'pred']})\n",
    ")"
   ]
  },
  {
   "cell_type": "code",
   "execution_count": 8,
   "metadata": {},
   "outputs": [],
   "source": [
    "averaged_preds = averaged.reset_index().set_index('index')\n",
    "averaged_preds.index = averaged_preds.index.astype(str)\n",
    "averaged_preds['real'] = averaged_preds[0].apply(lambda x: x['real'])\n",
    "averaged_preds['pred'] = averaged_preds[0].apply(lambda x: x['pred'])\n",
    "\n",
    "averaged_preds.to_csv(os.path.join(dirname, \"whole_dataset_averaged_preds.tsv\"), sep=\"\\t\", index=True, header=True)"
   ]
  },
  {
   "cell_type": "code",
   "execution_count": 9,
   "metadata": {},
   "outputs": [],
   "source": [
    "subset_preds = averaged_preds[\n",
    "                (averaged_preds['task'].isin(task_order)) & \n",
    "                (\n",
    "                    ((averaged_preds['dataset'] == 'UK') & (averaged_preds['subtype'].isin(['B', 'C']))) |\n",
    "                    ((averaged_preds['dataset'] == 'Africa') & (averaged_preds['subtype'] == 'ALL'))\n",
    "                )\n",
    "            ]\n",
    "subset_preds.index = subset_preds.index.astype(str)\n",
    "subset_preds = subset_preds.join(metadata['hasDRM'])\n",
    "\n",
    "subset_preds.to_csv(os.path.join(dirname, \"whole_dataset_subset_preds.tsv\"), sep=\"\\t\", index=True, header=True)"
   ]
  },
  {
   "cell_type": "code",
   "execution_count": 30,
   "metadata": {},
   "outputs": [],
   "source": [
    "cleaned_preds = subset_preds[\n",
    "    ~((subset_preds['task'] == task_order[-1]) & \n",
    "    (subset_preds['hasDRM'] == 1))\n",
    "]\n",
    "\n",
    "cleaned_preds.to_csv(os.path.join(dirname, \"whole_dataset_cleaned_preds.tsv\"), sep=\"\\t\", index=True, header=True)"
   ]
  },
  {
   "cell_type": "markdown",
   "metadata": {},
   "source": [
    "# Reading data\n",
    "This can be done by reading the files generated by the **Data cleaning / gathering** section above"
   ]
  },
  {
   "cell_type": "code",
   "execution_count": 31,
   "metadata": {},
   "outputs": [
    {
     "name": "stderr",
     "output_type": "stream",
     "text": [
      "/usr/local/Caskroom/miniconda/base/envs/HIV/lib/python3.7/site-packages/IPython/core/interactiveshell.py:3063: DtypeWarning: Columns (0) have mixed types. Specify dtype option on import or set low_memory=False.\n",
      "  interactivity=interactivity, compiler=compiler, result=result)\n"
     ]
    }
   ],
   "source": [
    "# to_load data\n",
    "averaged_preds = pd.read_csv(os.path.join(dirname, 'whole_dataset_averaged_preds.tsv'), sep='\\t', index_col=0)\n",
    "subset_preds = pd.read_csv(os.path.join(dirname, 'whole_dataset_subset_preds.tsv'), sep='\\t', index_col=0)\n",
    "cleaned_preds = pd.read_csv(os.path.join(dirname, 'whole_dataset_cleaned_preds.tsv'), sep='\\t', index_col=0)\n",
    "# dirname = 'whole_dataset_figure_results_RAM'"
   ]
  },
  {
   "cell_type": "code",
   "execution_count": 32,
   "metadata": {},
   "outputs": [],
   "source": [
    "# change name of Fisher classifier\n",
    "averaged_preds['shorthand'] = averaged_preds['shorthand'].apply(lambda x: {'B1': 'FC'}.get(x,x))\n",
    "subset_preds['shorthand'] = subset_preds['shorthand'].apply(lambda x: {'B1': 'FC'}.get(x,x))\n",
    "cleaned_preds['shorthand'] = cleaned_preds['shorthand'].apply(lambda x: {'B1': 'FC'}.get(x,x))"
   ]
  },
  {
   "cell_type": "markdown",
   "metadata": {},
   "source": [
    "# Computing scores \n",
    "We need to compute AMI and/or balanced accuracy for the RF/LR/NB and fisher test based classifier on the 3 tasks. showing everything: \n",
    " - trained on B, tested on C\n",
    " - trained on C, tested on B\n",
    " - trained on ALL, tested on Africa\n",
    " "
   ]
  },
  {
   "cell_type": "code",
   "execution_count": 33,
   "metadata": {},
   "outputs": [],
   "source": [
    "def get_scores(df):\n",
    "    scorer = {'AMI':adjusted_mutual_info_score, 'bal acc':balanced_accuracy_score, 'accuracy':accuracy_score}\n",
    "    scores = {}\n",
    "    for name, function in scorer.items():\n",
    "        scores[name] = function(df['real'], df['pred'])\n",
    "    return pd.Series(scores)"
   ]
  },
  {
   "cell_type": "code",
   "execution_count": 34,
   "metadata": {},
   "outputs": [],
   "source": [
    "def get_pvalue(df):\n",
    "    N = df.shape[0]\n",
    "    m_i = mutual_info_score(df['real'], df['pred'])\n",
    "    G_stat = m_i * 2 * N \n",
    "    return 1 - chi2.cdf(G_stat, df=1)"
   ]
  },
  {
   "cell_type": "markdown",
   "metadata": {},
   "source": [
    "scores_cleaned: the sequences with DRMs are removed from the test set for models trained without them "
   ]
  },
  {
   "cell_type": "code",
   "execution_count": 35,
   "metadata": {},
   "outputs": [
    {
     "name": "stderr",
     "output_type": "stream",
     "text": [
      "/usr/local/Caskroom/miniconda/base/envs/HIV/lib/python3.7/site-packages/sklearn/metrics/cluster/supervised.py:732: FutureWarning: The behavior of AMI will change in version 0.22. To match the behavior of 'v_measure_score', AMI will use average_method='arithmetic' by default.\n",
      "  FutureWarning)\n",
      "/usr/local/Caskroom/miniconda/base/envs/HIV/lib/python3.7/site-packages/sklearn/metrics/cluster/supervised.py:732: FutureWarning: The behavior of AMI will change in version 0.22. To match the behavior of 'v_measure_score', AMI will use average_method='arithmetic' by default.\n",
      "  FutureWarning)\n",
      "/usr/local/Caskroom/miniconda/base/envs/HIV/lib/python3.7/site-packages/sklearn/metrics/cluster/supervised.py:732: FutureWarning: The behavior of AMI will change in version 0.22. To match the behavior of 'v_measure_score', AMI will use average_method='arithmetic' by default.\n",
      "  FutureWarning)\n",
      "/usr/local/Caskroom/miniconda/base/envs/HIV/lib/python3.7/site-packages/sklearn/metrics/cluster/supervised.py:732: FutureWarning: The behavior of AMI will change in version 0.22. To match the behavior of 'v_measure_score', AMI will use average_method='arithmetic' by default.\n",
      "  FutureWarning)\n",
      "/usr/local/Caskroom/miniconda/base/envs/HIV/lib/python3.7/site-packages/sklearn/metrics/cluster/supervised.py:732: FutureWarning: The behavior of AMI will change in version 0.22. To match the behavior of 'v_measure_score', AMI will use average_method='arithmetic' by default.\n",
      "  FutureWarning)\n",
      "/usr/local/Caskroom/miniconda/base/envs/HIV/lib/python3.7/site-packages/sklearn/metrics/cluster/supervised.py:732: FutureWarning: The behavior of AMI will change in version 0.22. To match the behavior of 'v_measure_score', AMI will use average_method='arithmetic' by default.\n",
      "  FutureWarning)\n",
      "/usr/local/Caskroom/miniconda/base/envs/HIV/lib/python3.7/site-packages/sklearn/metrics/cluster/supervised.py:732: FutureWarning: The behavior of AMI will change in version 0.22. To match the behavior of 'v_measure_score', AMI will use average_method='arithmetic' by default.\n",
      "  FutureWarning)\n",
      "/usr/local/Caskroom/miniconda/base/envs/HIV/lib/python3.7/site-packages/sklearn/metrics/cluster/supervised.py:732: FutureWarning: The behavior of AMI will change in version 0.22. To match the behavior of 'v_measure_score', AMI will use average_method='arithmetic' by default.\n",
      "  FutureWarning)\n",
      "/usr/local/Caskroom/miniconda/base/envs/HIV/lib/python3.7/site-packages/sklearn/metrics/cluster/supervised.py:732: FutureWarning: The behavior of AMI will change in version 0.22. To match the behavior of 'v_measure_score', AMI will use average_method='arithmetic' by default.\n",
      "  FutureWarning)\n",
      "/usr/local/Caskroom/miniconda/base/envs/HIV/lib/python3.7/site-packages/sklearn/metrics/cluster/supervised.py:732: FutureWarning: The behavior of AMI will change in version 0.22. To match the behavior of 'v_measure_score', AMI will use average_method='arithmetic' by default.\n",
      "  FutureWarning)\n",
      "/usr/local/Caskroom/miniconda/base/envs/HIV/lib/python3.7/site-packages/sklearn/metrics/cluster/supervised.py:732: FutureWarning: The behavior of AMI will change in version 0.22. To match the behavior of 'v_measure_score', AMI will use average_method='arithmetic' by default.\n",
      "  FutureWarning)\n",
      "/usr/local/Caskroom/miniconda/base/envs/HIV/lib/python3.7/site-packages/sklearn/metrics/cluster/supervised.py:732: FutureWarning: The behavior of AMI will change in version 0.22. To match the behavior of 'v_measure_score', AMI will use average_method='arithmetic' by default.\n",
      "  FutureWarning)\n",
      "/usr/local/Caskroom/miniconda/base/envs/HIV/lib/python3.7/site-packages/sklearn/metrics/cluster/supervised.py:732: FutureWarning: The behavior of AMI will change in version 0.22. To match the behavior of 'v_measure_score', AMI will use average_method='arithmetic' by default.\n",
      "  FutureWarning)\n",
      "/usr/local/Caskroom/miniconda/base/envs/HIV/lib/python3.7/site-packages/sklearn/metrics/cluster/supervised.py:732: FutureWarning: The behavior of AMI will change in version 0.22. To match the behavior of 'v_measure_score', AMI will use average_method='arithmetic' by default.\n",
      "  FutureWarning)\n",
      "/usr/local/Caskroom/miniconda/base/envs/HIV/lib/python3.7/site-packages/sklearn/metrics/cluster/supervised.py:732: FutureWarning: The behavior of AMI will change in version 0.22. To match the behavior of 'v_measure_score', AMI will use average_method='arithmetic' by default.\n",
      "  FutureWarning)\n",
      "/usr/local/Caskroom/miniconda/base/envs/HIV/lib/python3.7/site-packages/sklearn/metrics/cluster/supervised.py:732: FutureWarning: The behavior of AMI will change in version 0.22. To match the behavior of 'v_measure_score', AMI will use average_method='arithmetic' by default.\n",
      "  FutureWarning)\n",
      "/usr/local/Caskroom/miniconda/base/envs/HIV/lib/python3.7/site-packages/sklearn/metrics/cluster/supervised.py:732: FutureWarning: The behavior of AMI will change in version 0.22. To match the behavior of 'v_measure_score', AMI will use average_method='arithmetic' by default.\n",
      "  FutureWarning)\n",
      "/usr/local/Caskroom/miniconda/base/envs/HIV/lib/python3.7/site-packages/sklearn/metrics/cluster/supervised.py:732: FutureWarning: The behavior of AMI will change in version 0.22. To match the behavior of 'v_measure_score', AMI will use average_method='arithmetic' by default.\n",
      "  FutureWarning)\n",
      "/usr/local/Caskroom/miniconda/base/envs/HIV/lib/python3.7/site-packages/sklearn/metrics/cluster/supervised.py:732: FutureWarning: The behavior of AMI will change in version 0.22. To match the behavior of 'v_measure_score', AMI will use average_method='arithmetic' by default.\n",
      "  FutureWarning)\n",
      "/usr/local/Caskroom/miniconda/base/envs/HIV/lib/python3.7/site-packages/sklearn/metrics/cluster/supervised.py:732: FutureWarning: The behavior of AMI will change in version 0.22. To match the behavior of 'v_measure_score', AMI will use average_method='arithmetic' by default.\n",
      "  FutureWarning)\n",
      "/usr/local/Caskroom/miniconda/base/envs/HIV/lib/python3.7/site-packages/sklearn/metrics/cluster/supervised.py:732: FutureWarning: The behavior of AMI will change in version 0.22. To match the behavior of 'v_measure_score', AMI will use average_method='arithmetic' by default.\n",
      "  FutureWarning)\n",
      "/usr/local/Caskroom/miniconda/base/envs/HIV/lib/python3.7/site-packages/sklearn/metrics/cluster/supervised.py:732: FutureWarning: The behavior of AMI will change in version 0.22. To match the behavior of 'v_measure_score', AMI will use average_method='arithmetic' by default.\n",
      "  FutureWarning)\n",
      "/usr/local/Caskroom/miniconda/base/envs/HIV/lib/python3.7/site-packages/sklearn/metrics/cluster/supervised.py:732: FutureWarning: The behavior of AMI will change in version 0.22. To match the behavior of 'v_measure_score', AMI will use average_method='arithmetic' by default.\n",
      "  FutureWarning)\n",
      "/usr/local/Caskroom/miniconda/base/envs/HIV/lib/python3.7/site-packages/sklearn/metrics/cluster/supervised.py:732: FutureWarning: The behavior of AMI will change in version 0.22. To match the behavior of 'v_measure_score', AMI will use average_method='arithmetic' by default.\n",
      "  FutureWarning)\n",
      "/usr/local/Caskroom/miniconda/base/envs/HIV/lib/python3.7/site-packages/sklearn/metrics/cluster/supervised.py:732: FutureWarning: The behavior of AMI will change in version 0.22. To match the behavior of 'v_measure_score', AMI will use average_method='arithmetic' by default.\n",
      "  FutureWarning)\n",
      "/usr/local/Caskroom/miniconda/base/envs/HIV/lib/python3.7/site-packages/sklearn/metrics/cluster/supervised.py:732: FutureWarning: The behavior of AMI will change in version 0.22. To match the behavior of 'v_measure_score', AMI will use average_method='arithmetic' by default.\n",
      "  FutureWarning)\n",
      "/usr/local/Caskroom/miniconda/base/envs/HIV/lib/python3.7/site-packages/sklearn/metrics/cluster/supervised.py:732: FutureWarning: The behavior of AMI will change in version 0.22. To match the behavior of 'v_measure_score', AMI will use average_method='arithmetic' by default.\n",
      "  FutureWarning)\n",
      "/usr/local/Caskroom/miniconda/base/envs/HIV/lib/python3.7/site-packages/sklearn/metrics/cluster/supervised.py:732: FutureWarning: The behavior of AMI will change in version 0.22. To match the behavior of 'v_measure_score', AMI will use average_method='arithmetic' by default.\n",
      "  FutureWarning)\n",
      "/usr/local/Caskroom/miniconda/base/envs/HIV/lib/python3.7/site-packages/sklearn/metrics/cluster/supervised.py:732: FutureWarning: The behavior of AMI will change in version 0.22. To match the behavior of 'v_measure_score', AMI will use average_method='arithmetic' by default.\n",
      "  FutureWarning)\n"
     ]
    },
    {
     "name": "stderr",
     "output_type": "stream",
     "text": [
      "/usr/local/Caskroom/miniconda/base/envs/HIV/lib/python3.7/site-packages/sklearn/metrics/cluster/supervised.py:732: FutureWarning: The behavior of AMI will change in version 0.22. To match the behavior of 'v_measure_score', AMI will use average_method='arithmetic' by default.\n",
      "  FutureWarning)\n",
      "/usr/local/Caskroom/miniconda/base/envs/HIV/lib/python3.7/site-packages/sklearn/metrics/cluster/supervised.py:732: FutureWarning: The behavior of AMI will change in version 0.22. To match the behavior of 'v_measure_score', AMI will use average_method='arithmetic' by default.\n",
      "  FutureWarning)\n",
      "/usr/local/Caskroom/miniconda/base/envs/HIV/lib/python3.7/site-packages/sklearn/metrics/cluster/supervised.py:732: FutureWarning: The behavior of AMI will change in version 0.22. To match the behavior of 'v_measure_score', AMI will use average_method='arithmetic' by default.\n",
      "  FutureWarning)\n",
      "/usr/local/Caskroom/miniconda/base/envs/HIV/lib/python3.7/site-packages/sklearn/metrics/cluster/supervised.py:732: FutureWarning: The behavior of AMI will change in version 0.22. To match the behavior of 'v_measure_score', AMI will use average_method='arithmetic' by default.\n",
      "  FutureWarning)\n",
      "/usr/local/Caskroom/miniconda/base/envs/HIV/lib/python3.7/site-packages/sklearn/metrics/cluster/supervised.py:732: FutureWarning: The behavior of AMI will change in version 0.22. To match the behavior of 'v_measure_score', AMI will use average_method='arithmetic' by default.\n",
      "  FutureWarning)\n",
      "/usr/local/Caskroom/miniconda/base/envs/HIV/lib/python3.7/site-packages/sklearn/metrics/cluster/supervised.py:732: FutureWarning: The behavior of AMI will change in version 0.22. To match the behavior of 'v_measure_score', AMI will use average_method='arithmetic' by default.\n",
      "  FutureWarning)\n",
      "/usr/local/Caskroom/miniconda/base/envs/HIV/lib/python3.7/site-packages/sklearn/metrics/cluster/supervised.py:732: FutureWarning: The behavior of AMI will change in version 0.22. To match the behavior of 'v_measure_score', AMI will use average_method='arithmetic' by default.\n",
      "  FutureWarning)\n",
      "/usr/local/Caskroom/miniconda/base/envs/HIV/lib/python3.7/site-packages/sklearn/metrics/cluster/supervised.py:732: FutureWarning: The behavior of AMI will change in version 0.22. To match the behavior of 'v_measure_score', AMI will use average_method='arithmetic' by default.\n",
      "  FutureWarning)\n",
      "/usr/local/Caskroom/miniconda/base/envs/HIV/lib/python3.7/site-packages/sklearn/metrics/cluster/supervised.py:732: FutureWarning: The behavior of AMI will change in version 0.22. To match the behavior of 'v_measure_score', AMI will use average_method='arithmetic' by default.\n",
      "  FutureWarning)\n",
      "/usr/local/Caskroom/miniconda/base/envs/HIV/lib/python3.7/site-packages/sklearn/metrics/cluster/supervised.py:732: FutureWarning: The behavior of AMI will change in version 0.22. To match the behavior of 'v_measure_score', AMI will use average_method='arithmetic' by default.\n",
      "  FutureWarning)\n",
      "/usr/local/Caskroom/miniconda/base/envs/HIV/lib/python3.7/site-packages/sklearn/metrics/cluster/supervised.py:732: FutureWarning: The behavior of AMI will change in version 0.22. To match the behavior of 'v_measure_score', AMI will use average_method='arithmetic' by default.\n",
      "  FutureWarning)\n",
      "/usr/local/Caskroom/miniconda/base/envs/HIV/lib/python3.7/site-packages/sklearn/metrics/cluster/supervised.py:732: FutureWarning: The behavior of AMI will change in version 0.22. To match the behavior of 'v_measure_score', AMI will use average_method='arithmetic' by default.\n",
      "  FutureWarning)\n",
      "/usr/local/Caskroom/miniconda/base/envs/HIV/lib/python3.7/site-packages/sklearn/metrics/cluster/supervised.py:732: FutureWarning: The behavior of AMI will change in version 0.22. To match the behavior of 'v_measure_score', AMI will use average_method='arithmetic' by default.\n",
      "  FutureWarning)\n",
      "/usr/local/Caskroom/miniconda/base/envs/HIV/lib/python3.7/site-packages/sklearn/metrics/cluster/supervised.py:732: FutureWarning: The behavior of AMI will change in version 0.22. To match the behavior of 'v_measure_score', AMI will use average_method='arithmetic' by default.\n",
      "  FutureWarning)\n",
      "/usr/local/Caskroom/miniconda/base/envs/HIV/lib/python3.7/site-packages/sklearn/metrics/cluster/supervised.py:732: FutureWarning: The behavior of AMI will change in version 0.22. To match the behavior of 'v_measure_score', AMI will use average_method='arithmetic' by default.\n",
      "  FutureWarning)\n",
      "/usr/local/Caskroom/miniconda/base/envs/HIV/lib/python3.7/site-packages/sklearn/metrics/cluster/supervised.py:732: FutureWarning: The behavior of AMI will change in version 0.22. To match the behavior of 'v_measure_score', AMI will use average_method='arithmetic' by default.\n",
      "  FutureWarning)\n",
      "/usr/local/Caskroom/miniconda/base/envs/HIV/lib/python3.7/site-packages/sklearn/metrics/cluster/supervised.py:732: FutureWarning: The behavior of AMI will change in version 0.22. To match the behavior of 'v_measure_score', AMI will use average_method='arithmetic' by default.\n",
      "  FutureWarning)\n",
      "/usr/local/Caskroom/miniconda/base/envs/HIV/lib/python3.7/site-packages/sklearn/metrics/cluster/supervised.py:732: FutureWarning: The behavior of AMI will change in version 0.22. To match the behavior of 'v_measure_score', AMI will use average_method='arithmetic' by default.\n",
      "  FutureWarning)\n",
      "/usr/local/Caskroom/miniconda/base/envs/HIV/lib/python3.7/site-packages/sklearn/metrics/cluster/supervised.py:732: FutureWarning: The behavior of AMI will change in version 0.22. To match the behavior of 'v_measure_score', AMI will use average_method='arithmetic' by default.\n",
      "  FutureWarning)\n",
      "/usr/local/Caskroom/miniconda/base/envs/HIV/lib/python3.7/site-packages/sklearn/metrics/cluster/supervised.py:732: FutureWarning: The behavior of AMI will change in version 0.22. To match the behavior of 'v_measure_score', AMI will use average_method='arithmetic' by default.\n",
      "  FutureWarning)\n",
      "/usr/local/Caskroom/miniconda/base/envs/HIV/lib/python3.7/site-packages/sklearn/metrics/cluster/supervised.py:732: FutureWarning: The behavior of AMI will change in version 0.22. To match the behavior of 'v_measure_score', AMI will use average_method='arithmetic' by default.\n",
      "  FutureWarning)\n",
      "/usr/local/Caskroom/miniconda/base/envs/HIV/lib/python3.7/site-packages/sklearn/metrics/cluster/supervised.py:732: FutureWarning: The behavior of AMI will change in version 0.22. To match the behavior of 'v_measure_score', AMI will use average_method='arithmetic' by default.\n",
      "  FutureWarning)\n",
      "/usr/local/Caskroom/miniconda/base/envs/HIV/lib/python3.7/site-packages/sklearn/metrics/cluster/supervised.py:732: FutureWarning: The behavior of AMI will change in version 0.22. To match the behavior of 'v_measure_score', AMI will use average_method='arithmetic' by default.\n",
      "  FutureWarning)\n",
      "/usr/local/Caskroom/miniconda/base/envs/HIV/lib/python3.7/site-packages/sklearn/metrics/cluster/supervised.py:732: FutureWarning: The behavior of AMI will change in version 0.22. To match the behavior of 'v_measure_score', AMI will use average_method='arithmetic' by default.\n",
      "  FutureWarning)\n",
      "/usr/local/Caskroom/miniconda/base/envs/HIV/lib/python3.7/site-packages/sklearn/metrics/cluster/supervised.py:732: FutureWarning: The behavior of AMI will change in version 0.22. To match the behavior of 'v_measure_score', AMI will use average_method='arithmetic' by default.\n",
      "  FutureWarning)\n",
      "/usr/local/Caskroom/miniconda/base/envs/HIV/lib/python3.7/site-packages/sklearn/metrics/cluster/supervised.py:732: FutureWarning: The behavior of AMI will change in version 0.22. To match the behavior of 'v_measure_score', AMI will use average_method='arithmetic' by default.\n",
      "  FutureWarning)\n",
      "/usr/local/Caskroom/miniconda/base/envs/HIV/lib/python3.7/site-packages/sklearn/metrics/cluster/supervised.py:732: FutureWarning: The behavior of AMI will change in version 0.22. To match the behavior of 'v_measure_score', AMI will use average_method='arithmetic' by default.\n",
      "  FutureWarning)\n",
      "/usr/local/Caskroom/miniconda/base/envs/HIV/lib/python3.7/site-packages/sklearn/metrics/cluster/supervised.py:732: FutureWarning: The behavior of AMI will change in version 0.22. To match the behavior of 'v_measure_score', AMI will use average_method='arithmetic' by default.\n",
      "  FutureWarning)\n",
      "/usr/local/Caskroom/miniconda/base/envs/HIV/lib/python3.7/site-packages/sklearn/metrics/cluster/supervised.py:732: FutureWarning: The behavior of AMI will change in version 0.22. To match the behavior of 'v_measure_score', AMI will use average_method='arithmetic' by default.\n",
      "  FutureWarning)\n",
      "/usr/local/Caskroom/miniconda/base/envs/HIV/lib/python3.7/site-packages/sklearn/metrics/cluster/supervised.py:732: FutureWarning: The behavior of AMI will change in version 0.22. To match the behavior of 'v_measure_score', AMI will use average_method='arithmetic' by default.\n",
      "  FutureWarning)\n",
      "/usr/local/Caskroom/miniconda/base/envs/HIV/lib/python3.7/site-packages/sklearn/metrics/cluster/supervised.py:732: FutureWarning: The behavior of AMI will change in version 0.22. To match the behavior of 'v_measure_score', AMI will use average_method='arithmetic' by default.\n",
      "  FutureWarning)\n",
      "/usr/local/Caskroom/miniconda/base/envs/HIV/lib/python3.7/site-packages/sklearn/metrics/cluster/supervised.py:732: FutureWarning: The behavior of AMI will change in version 0.22. To match the behavior of 'v_measure_score', AMI will use average_method='arithmetic' by default.\n",
      "  FutureWarning)\n",
      "/usr/local/Caskroom/miniconda/base/envs/HIV/lib/python3.7/site-packages/sklearn/metrics/cluster/supervised.py:732: FutureWarning: The behavior of AMI will change in version 0.22. To match the behavior of 'v_measure_score', AMI will use average_method='arithmetic' by default.\n",
      "  FutureWarning)\n",
      "/usr/local/Caskroom/miniconda/base/envs/HIV/lib/python3.7/site-packages/sklearn/metrics/cluster/supervised.py:732: FutureWarning: The behavior of AMI will change in version 0.22. To match the behavior of 'v_measure_score', AMI will use average_method='arithmetic' by default.\n",
      "  FutureWarning)\n",
      "/usr/local/Caskroom/miniconda/base/envs/HIV/lib/python3.7/site-packages/sklearn/metrics/cluster/supervised.py:732: FutureWarning: The behavior of AMI will change in version 0.22. To match the behavior of 'v_measure_score', AMI will use average_method='arithmetic' by default.\n",
      "  FutureWarning)\n"
     ]
    },
    {
     "name": "stderr",
     "output_type": "stream",
     "text": [
      "/usr/local/Caskroom/miniconda/base/envs/HIV/lib/python3.7/site-packages/sklearn/metrics/cluster/supervised.py:732: FutureWarning: The behavior of AMI will change in version 0.22. To match the behavior of 'v_measure_score', AMI will use average_method='arithmetic' by default.\n",
      "  FutureWarning)\n",
      "/usr/local/Caskroom/miniconda/base/envs/HIV/lib/python3.7/site-packages/sklearn/metrics/cluster/supervised.py:732: FutureWarning: The behavior of AMI will change in version 0.22. To match the behavior of 'v_measure_score', AMI will use average_method='arithmetic' by default.\n",
      "  FutureWarning)\n",
      "/usr/local/Caskroom/miniconda/base/envs/HIV/lib/python3.7/site-packages/sklearn/metrics/cluster/supervised.py:732: FutureWarning: The behavior of AMI will change in version 0.22. To match the behavior of 'v_measure_score', AMI will use average_method='arithmetic' by default.\n",
      "  FutureWarning)\n",
      "/usr/local/Caskroom/miniconda/base/envs/HIV/lib/python3.7/site-packages/sklearn/metrics/cluster/supervised.py:732: FutureWarning: The behavior of AMI will change in version 0.22. To match the behavior of 'v_measure_score', AMI will use average_method='arithmetic' by default.\n",
      "  FutureWarning)\n",
      "/usr/local/Caskroom/miniconda/base/envs/HIV/lib/python3.7/site-packages/sklearn/metrics/cluster/supervised.py:732: FutureWarning: The behavior of AMI will change in version 0.22. To match the behavior of 'v_measure_score', AMI will use average_method='arithmetic' by default.\n",
      "  FutureWarning)\n",
      "/usr/local/Caskroom/miniconda/base/envs/HIV/lib/python3.7/site-packages/sklearn/metrics/cluster/supervised.py:732: FutureWarning: The behavior of AMI will change in version 0.22. To match the behavior of 'v_measure_score', AMI will use average_method='arithmetic' by default.\n",
      "  FutureWarning)\n",
      "/usr/local/Caskroom/miniconda/base/envs/HIV/lib/python3.7/site-packages/sklearn/metrics/cluster/supervised.py:732: FutureWarning: The behavior of AMI will change in version 0.22. To match the behavior of 'v_measure_score', AMI will use average_method='arithmetic' by default.\n",
      "  FutureWarning)\n",
      "/usr/local/Caskroom/miniconda/base/envs/HIV/lib/python3.7/site-packages/sklearn/metrics/cluster/supervised.py:732: FutureWarning: The behavior of AMI will change in version 0.22. To match the behavior of 'v_measure_score', AMI will use average_method='arithmetic' by default.\n",
      "  FutureWarning)\n",
      "/usr/local/Caskroom/miniconda/base/envs/HIV/lib/python3.7/site-packages/sklearn/metrics/cluster/supervised.py:732: FutureWarning: The behavior of AMI will change in version 0.22. To match the behavior of 'v_measure_score', AMI will use average_method='arithmetic' by default.\n",
      "  FutureWarning)\n",
      "/usr/local/Caskroom/miniconda/base/envs/HIV/lib/python3.7/site-packages/sklearn/metrics/cluster/supervised.py:732: FutureWarning: The behavior of AMI will change in version 0.22. To match the behavior of 'v_measure_score', AMI will use average_method='arithmetic' by default.\n",
      "  FutureWarning)\n",
      "/usr/local/Caskroom/miniconda/base/envs/HIV/lib/python3.7/site-packages/sklearn/metrics/cluster/supervised.py:732: FutureWarning: The behavior of AMI will change in version 0.22. To match the behavior of 'v_measure_score', AMI will use average_method='arithmetic' by default.\n",
      "  FutureWarning)\n",
      "/usr/local/Caskroom/miniconda/base/envs/HIV/lib/python3.7/site-packages/sklearn/metrics/cluster/supervised.py:732: FutureWarning: The behavior of AMI will change in version 0.22. To match the behavior of 'v_measure_score', AMI will use average_method='arithmetic' by default.\n",
      "  FutureWarning)\n",
      "/usr/local/Caskroom/miniconda/base/envs/HIV/lib/python3.7/site-packages/sklearn/metrics/cluster/supervised.py:732: FutureWarning: The behavior of AMI will change in version 0.22. To match the behavior of 'v_measure_score', AMI will use average_method='arithmetic' by default.\n",
      "  FutureWarning)\n",
      "/usr/local/Caskroom/miniconda/base/envs/HIV/lib/python3.7/site-packages/sklearn/metrics/cluster/supervised.py:732: FutureWarning: The behavior of AMI will change in version 0.22. To match the behavior of 'v_measure_score', AMI will use average_method='arithmetic' by default.\n",
      "  FutureWarning)\n",
      "/usr/local/Caskroom/miniconda/base/envs/HIV/lib/python3.7/site-packages/sklearn/metrics/cluster/supervised.py:732: FutureWarning: The behavior of AMI will change in version 0.22. To match the behavior of 'v_measure_score', AMI will use average_method='arithmetic' by default.\n",
      "  FutureWarning)\n",
      "/usr/local/Caskroom/miniconda/base/envs/HIV/lib/python3.7/site-packages/sklearn/metrics/cluster/supervised.py:732: FutureWarning: The behavior of AMI will change in version 0.22. To match the behavior of 'v_measure_score', AMI will use average_method='arithmetic' by default.\n",
      "  FutureWarning)\n",
      "/usr/local/Caskroom/miniconda/base/envs/HIV/lib/python3.7/site-packages/sklearn/metrics/cluster/supervised.py:732: FutureWarning: The behavior of AMI will change in version 0.22. To match the behavior of 'v_measure_score', AMI will use average_method='arithmetic' by default.\n",
      "  FutureWarning)\n",
      "/usr/local/Caskroom/miniconda/base/envs/HIV/lib/python3.7/site-packages/sklearn/metrics/cluster/supervised.py:732: FutureWarning: The behavior of AMI will change in version 0.22. To match the behavior of 'v_measure_score', AMI will use average_method='arithmetic' by default.\n",
      "  FutureWarning)\n",
      "/usr/local/Caskroom/miniconda/base/envs/HIV/lib/python3.7/site-packages/sklearn/metrics/cluster/supervised.py:732: FutureWarning: The behavior of AMI will change in version 0.22. To match the behavior of 'v_measure_score', AMI will use average_method='arithmetic' by default.\n",
      "  FutureWarning)\n",
      "/usr/local/Caskroom/miniconda/base/envs/HIV/lib/python3.7/site-packages/sklearn/metrics/cluster/supervised.py:732: FutureWarning: The behavior of AMI will change in version 0.22. To match the behavior of 'v_measure_score', AMI will use average_method='arithmetic' by default.\n",
      "  FutureWarning)\n",
      "/usr/local/Caskroom/miniconda/base/envs/HIV/lib/python3.7/site-packages/sklearn/metrics/cluster/supervised.py:732: FutureWarning: The behavior of AMI will change in version 0.22. To match the behavior of 'v_measure_score', AMI will use average_method='arithmetic' by default.\n",
      "  FutureWarning)\n",
      "/usr/local/Caskroom/miniconda/base/envs/HIV/lib/python3.7/site-packages/sklearn/metrics/cluster/supervised.py:732: FutureWarning: The behavior of AMI will change in version 0.22. To match the behavior of 'v_measure_score', AMI will use average_method='arithmetic' by default.\n",
      "  FutureWarning)\n",
      "/usr/local/Caskroom/miniconda/base/envs/HIV/lib/python3.7/site-packages/sklearn/metrics/cluster/supervised.py:732: FutureWarning: The behavior of AMI will change in version 0.22. To match the behavior of 'v_measure_score', AMI will use average_method='arithmetic' by default.\n",
      "  FutureWarning)\n",
      "/usr/local/Caskroom/miniconda/base/envs/HIV/lib/python3.7/site-packages/sklearn/metrics/cluster/supervised.py:732: FutureWarning: The behavior of AMI will change in version 0.22. To match the behavior of 'v_measure_score', AMI will use average_method='arithmetic' by default.\n",
      "  FutureWarning)\n",
      "/usr/local/Caskroom/miniconda/base/envs/HIV/lib/python3.7/site-packages/sklearn/metrics/cluster/supervised.py:732: FutureWarning: The behavior of AMI will change in version 0.22. To match the behavior of 'v_measure_score', AMI will use average_method='arithmetic' by default.\n",
      "  FutureWarning)\n",
      "/usr/local/Caskroom/miniconda/base/envs/HIV/lib/python3.7/site-packages/sklearn/metrics/cluster/supervised.py:732: FutureWarning: The behavior of AMI will change in version 0.22. To match the behavior of 'v_measure_score', AMI will use average_method='arithmetic' by default.\n",
      "  FutureWarning)\n",
      "/usr/local/Caskroom/miniconda/base/envs/HIV/lib/python3.7/site-packages/sklearn/metrics/cluster/supervised.py:732: FutureWarning: The behavior of AMI will change in version 0.22. To match the behavior of 'v_measure_score', AMI will use average_method='arithmetic' by default.\n",
      "  FutureWarning)\n",
      "/usr/local/Caskroom/miniconda/base/envs/HIV/lib/python3.7/site-packages/sklearn/metrics/cluster/supervised.py:732: FutureWarning: The behavior of AMI will change in version 0.22. To match the behavior of 'v_measure_score', AMI will use average_method='arithmetic' by default.\n",
      "  FutureWarning)\n",
      "/usr/local/Caskroom/miniconda/base/envs/HIV/lib/python3.7/site-packages/sklearn/metrics/cluster/supervised.py:732: FutureWarning: The behavior of AMI will change in version 0.22. To match the behavior of 'v_measure_score', AMI will use average_method='arithmetic' by default.\n",
      "  FutureWarning)\n",
      "/usr/local/Caskroom/miniconda/base/envs/HIV/lib/python3.7/site-packages/sklearn/metrics/cluster/supervised.py:732: FutureWarning: The behavior of AMI will change in version 0.22. To match the behavior of 'v_measure_score', AMI will use average_method='arithmetic' by default.\n",
      "  FutureWarning)\n"
     ]
    },
    {
     "name": "stderr",
     "output_type": "stream",
     "text": [
      "/usr/local/Caskroom/miniconda/base/envs/HIV/lib/python3.7/site-packages/sklearn/metrics/cluster/supervised.py:732: FutureWarning: The behavior of AMI will change in version 0.22. To match the behavior of 'v_measure_score', AMI will use average_method='arithmetic' by default.\n",
      "  FutureWarning)\n",
      "/usr/local/Caskroom/miniconda/base/envs/HIV/lib/python3.7/site-packages/sklearn/metrics/cluster/supervised.py:732: FutureWarning: The behavior of AMI will change in version 0.22. To match the behavior of 'v_measure_score', AMI will use average_method='arithmetic' by default.\n",
      "  FutureWarning)\n",
      "/usr/local/Caskroom/miniconda/base/envs/HIV/lib/python3.7/site-packages/sklearn/metrics/cluster/supervised.py:732: FutureWarning: The behavior of AMI will change in version 0.22. To match the behavior of 'v_measure_score', AMI will use average_method='arithmetic' by default.\n",
      "  FutureWarning)\n",
      "/usr/local/Caskroom/miniconda/base/envs/HIV/lib/python3.7/site-packages/sklearn/metrics/cluster/supervised.py:732: FutureWarning: The behavior of AMI will change in version 0.22. To match the behavior of 'v_measure_score', AMI will use average_method='arithmetic' by default.\n",
      "  FutureWarning)\n",
      "/usr/local/Caskroom/miniconda/base/envs/HIV/lib/python3.7/site-packages/sklearn/metrics/cluster/supervised.py:732: FutureWarning: The behavior of AMI will change in version 0.22. To match the behavior of 'v_measure_score', AMI will use average_method='arithmetic' by default.\n",
      "  FutureWarning)\n"
     ]
    }
   ],
   "source": [
    "scores_cleaned = cleaned_preds.groupby(grouper).apply(get_scores)\n",
    "p_values_cleaned = cleaned_preds.groupby(grouper).apply(get_pvalue).rename('p_value').reset_index()\n",
    "melted_cleaned = pd.melt(scores_cleaned.reset_index(), id_vars=grouper)\n",
    "melted_cleaned['group'] = melted_cleaned['task'] + ' ' + melted_cleaned['subtype']"
   ]
  },
  {
   "cell_type": "code",
   "execution_count": 36,
   "metadata": {},
   "outputs": [],
   "source": [
    "def bonferroni(df, alpha=0.05):\n",
    "    N = df.shape[0]\n",
    "    df['bonferroni'] = df['p_value'] <= (alpha / N)\n",
    "    return df"
   ]
  },
  {
   "cell_type": "code",
   "execution_count": 37,
   "metadata": {},
   "outputs": [],
   "source": [
    "corrected_cleaned = (p_values_cleaned\n",
    "                         .groupby('subtype')\n",
    "                         .apply(bonferroni)\n",
    "                         .set_index(['subtype', 'task', 'shorthand'])\n",
    "                    )"
   ]
  },
  {
   "cell_type": "markdown",
   "metadata": {},
   "source": [
    "## Brier probas stuff"
   ]
  },
  {
   "cell_type": "code",
   "execution_count": 38,
   "metadata": {},
   "outputs": [
    {
     "name": "stderr",
     "output_type": "stream",
     "text": [
      "/usr/local/Caskroom/miniconda/base/envs/HIV/lib/python3.7/site-packages/IPython/core/interactiveshell.py:3063: DtypeWarning: Columns (0) have mixed types. Specify dtype option on import or set low_memory=False.\n",
      "  interactivity=interactivity, compiler=compiler, result=result)\n"
     ]
    }
   ],
   "source": [
    "probas = pd.read_csv(proba_preds_path, sep='\\t', index_col=0)\n",
    "probas['shorthand'] = probas['shorthand'].apply(lambda x: {'B1': 'FC'}.get(x,x))"
   ]
  },
  {
   "cell_type": "code",
   "execution_count": 39,
   "metadata": {},
   "outputs": [
    {
     "data": {
      "text/html": [
       "<div>\n",
       "<style scoped>\n",
       "    .dataframe tbody tr th:only-of-type {\n",
       "        vertical-align: middle;\n",
       "    }\n",
       "\n",
       "    .dataframe tbody tr th {\n",
       "        vertical-align: top;\n",
       "    }\n",
       "\n",
       "    .dataframe thead th {\n",
       "        text-align: right;\n",
       "    }\n",
       "</style>\n",
       "<table border=\"1\" class=\"dataframe\">\n",
       "  <thead>\n",
       "    <tr style=\"text-align: right;\">\n",
       "      <th></th>\n",
       "      <th>pred</th>\n",
       "      <th>real</th>\n",
       "      <th>dir</th>\n",
       "      <th>subtype</th>\n",
       "      <th>target</th>\n",
       "      <th>model</th>\n",
       "      <th>dataset</th>\n",
       "      <th>num</th>\n",
       "      <th>0</th>\n",
       "      <th>1</th>\n",
       "      <th>task</th>\n",
       "      <th>shorthand</th>\n",
       "      <th>hasDRM</th>\n",
       "    </tr>\n",
       "  </thead>\n",
       "  <tbody>\n",
       "    <tr>\n",
       "      <th>0001_BF01n_BF_URF_SR050_19_18</th>\n",
       "      <td>0</td>\n",
       "      <td>0</td>\n",
       "      <td>results_whole_training_set</td>\n",
       "      <td>ALL</td>\n",
       "      <td>encoded_label</td>\n",
       "      <td>FisherBH1</td>\n",
       "      <td>Africa</td>\n",
       "      <td>0</td>\n",
       "      <td>NaN</td>\n",
       "      <td>NaN</td>\n",
       "      <td>all features\\nkept</td>\n",
       "      <td>BH1</td>\n",
       "      <td>0.0</td>\n",
       "    </tr>\n",
       "    <tr>\n",
       "      <th>0001_BF01n_BF_URF_SR050_19_18</th>\n",
       "      <td>0</td>\n",
       "      <td>0</td>\n",
       "      <td>results_whole_training_set</td>\n",
       "      <td>ALL</td>\n",
       "      <td>encoded_label</td>\n",
       "      <td>RF</td>\n",
       "      <td>Africa</td>\n",
       "      <td>19</td>\n",
       "      <td>0.904281</td>\n",
       "      <td>0.095719</td>\n",
       "      <td>all features\\nkept</td>\n",
       "      <td>RF</td>\n",
       "      <td>0.0</td>\n",
       "    </tr>\n",
       "    <tr>\n",
       "      <th>0001_BF01n_BF_URF_SR050_19_18</th>\n",
       "      <td>0</td>\n",
       "      <td>0</td>\n",
       "      <td>results_whole_training_set</td>\n",
       "      <td>ALL</td>\n",
       "      <td>encoded_label</td>\n",
       "      <td>Logistic</td>\n",
       "      <td>Africa</td>\n",
       "      <td>0</td>\n",
       "      <td>0.807977</td>\n",
       "      <td>0.192023</td>\n",
       "      <td>all features\\nkept</td>\n",
       "      <td>LR</td>\n",
       "      <td>0.0</td>\n",
       "    </tr>\n",
       "    <tr>\n",
       "      <th>0001_BF01n_BF_URF_SR050_19_18</th>\n",
       "      <td>0</td>\n",
       "      <td>0</td>\n",
       "      <td>results_whole_training_set</td>\n",
       "      <td>ALL</td>\n",
       "      <td>encoded_label</td>\n",
       "      <td>RF</td>\n",
       "      <td>Africa</td>\n",
       "      <td>6</td>\n",
       "      <td>0.904083</td>\n",
       "      <td>0.095917</td>\n",
       "      <td>all features\\nkept</td>\n",
       "      <td>RF</td>\n",
       "      <td>0.0</td>\n",
       "    </tr>\n",
       "    <tr>\n",
       "      <th>0001_BF01n_BF_URF_SR050_19_18</th>\n",
       "      <td>0</td>\n",
       "      <td>0</td>\n",
       "      <td>results_whole_training_set</td>\n",
       "      <td>ALL</td>\n",
       "      <td>encoded_label</td>\n",
       "      <td>FisherBonf2</td>\n",
       "      <td>Africa</td>\n",
       "      <td>0</td>\n",
       "      <td>NaN</td>\n",
       "      <td>NaN</td>\n",
       "      <td>all features\\nkept</td>\n",
       "      <td>B2</td>\n",
       "      <td>0.0</td>\n",
       "    </tr>\n",
       "  </tbody>\n",
       "</table>\n",
       "</div>"
      ],
      "text/plain": [
       "                               pred  real                         dir subtype  \\\n",
       "0001_BF01n_BF_URF_SR050_19_18     0     0  results_whole_training_set     ALL   \n",
       "0001_BF01n_BF_URF_SR050_19_18     0     0  results_whole_training_set     ALL   \n",
       "0001_BF01n_BF_URF_SR050_19_18     0     0  results_whole_training_set     ALL   \n",
       "0001_BF01n_BF_URF_SR050_19_18     0     0  results_whole_training_set     ALL   \n",
       "0001_BF01n_BF_URF_SR050_19_18     0     0  results_whole_training_set     ALL   \n",
       "\n",
       "                                      target        model dataset  num  \\\n",
       "0001_BF01n_BF_URF_SR050_19_18  encoded_label    FisherBH1  Africa    0   \n",
       "0001_BF01n_BF_URF_SR050_19_18  encoded_label           RF  Africa   19   \n",
       "0001_BF01n_BF_URF_SR050_19_18  encoded_label     Logistic  Africa    0   \n",
       "0001_BF01n_BF_URF_SR050_19_18  encoded_label           RF  Africa    6   \n",
       "0001_BF01n_BF_URF_SR050_19_18  encoded_label  FisherBonf2  Africa    0   \n",
       "\n",
       "                                      0         1                task  \\\n",
       "0001_BF01n_BF_URF_SR050_19_18       NaN       NaN  all features\\nkept   \n",
       "0001_BF01n_BF_URF_SR050_19_18  0.904281  0.095719  all features\\nkept   \n",
       "0001_BF01n_BF_URF_SR050_19_18  0.807977  0.192023  all features\\nkept   \n",
       "0001_BF01n_BF_URF_SR050_19_18  0.904083  0.095917  all features\\nkept   \n",
       "0001_BF01n_BF_URF_SR050_19_18       NaN       NaN  all features\\nkept   \n",
       "\n",
       "                              shorthand  hasDRM  \n",
       "0001_BF01n_BF_URF_SR050_19_18       BH1     0.0  \n",
       "0001_BF01n_BF_URF_SR050_19_18        RF     0.0  \n",
       "0001_BF01n_BF_URF_SR050_19_18        LR     0.0  \n",
       "0001_BF01n_BF_URF_SR050_19_18        RF     0.0  \n",
       "0001_BF01n_BF_URF_SR050_19_18        B2     0.0  "
      ]
     },
     "execution_count": 39,
     "metadata": {},
     "output_type": "execute_result"
    }
   ],
   "source": [
    "subset_probas = probas[\n",
    "                (probas['task'].isin(task_order)) & \n",
    "                (\n",
    "                    ((probas['dataset'] == 'UK') & (probas['subtype'].isin(['B', 'C']))) |\n",
    "                    ((probas['dataset'] == 'Africa') & (probas['subtype'] == 'ALL'))\n",
    "                )\n",
    "            ]\n",
    "subset_probas.index = subset_probas.index.astype(str)\n",
    "subset_probas = subset_probas.join(metadata['hasDRM'])\n",
    "subset_probas.head()"
   ]
  },
  {
   "cell_type": "code",
   "execution_count": 40,
   "metadata": {},
   "outputs": [
    {
     "data": {
      "text/html": [
       "<div>\n",
       "<style scoped>\n",
       "    .dataframe tbody tr th:only-of-type {\n",
       "        vertical-align: middle;\n",
       "    }\n",
       "\n",
       "    .dataframe tbody tr th {\n",
       "        vertical-align: top;\n",
       "    }\n",
       "\n",
       "    .dataframe thead th {\n",
       "        text-align: right;\n",
       "    }\n",
       "</style>\n",
       "<table border=\"1\" class=\"dataframe\">\n",
       "  <thead>\n",
       "    <tr style=\"text-align: right;\">\n",
       "      <th></th>\n",
       "      <th>pred</th>\n",
       "      <th>real</th>\n",
       "      <th>dir</th>\n",
       "      <th>subtype</th>\n",
       "      <th>target</th>\n",
       "      <th>model</th>\n",
       "      <th>dataset</th>\n",
       "      <th>num</th>\n",
       "      <th>0</th>\n",
       "      <th>1</th>\n",
       "      <th>task</th>\n",
       "      <th>shorthand</th>\n",
       "      <th>hasDRM</th>\n",
       "    </tr>\n",
       "  </thead>\n",
       "  <tbody>\n",
       "    <tr>\n",
       "      <th>0001_BF01n_BF_URF_SR050_19_18</th>\n",
       "      <td>0</td>\n",
       "      <td>0</td>\n",
       "      <td>results_whole_training_set</td>\n",
       "      <td>ALL</td>\n",
       "      <td>encoded_label</td>\n",
       "      <td>FisherBH1</td>\n",
       "      <td>Africa</td>\n",
       "      <td>0</td>\n",
       "      <td>NaN</td>\n",
       "      <td>NaN</td>\n",
       "      <td>all features\\nkept</td>\n",
       "      <td>BH1</td>\n",
       "      <td>0.0</td>\n",
       "    </tr>\n",
       "    <tr>\n",
       "      <th>0001_BF01n_BF_URF_SR050_19_18</th>\n",
       "      <td>0</td>\n",
       "      <td>0</td>\n",
       "      <td>results_whole_training_set</td>\n",
       "      <td>ALL</td>\n",
       "      <td>encoded_label</td>\n",
       "      <td>RF</td>\n",
       "      <td>Africa</td>\n",
       "      <td>19</td>\n",
       "      <td>0.904281</td>\n",
       "      <td>0.095719</td>\n",
       "      <td>all features\\nkept</td>\n",
       "      <td>RF</td>\n",
       "      <td>0.0</td>\n",
       "    </tr>\n",
       "    <tr>\n",
       "      <th>0001_BF01n_BF_URF_SR050_19_18</th>\n",
       "      <td>0</td>\n",
       "      <td>0</td>\n",
       "      <td>results_whole_training_set</td>\n",
       "      <td>ALL</td>\n",
       "      <td>encoded_label</td>\n",
       "      <td>Logistic</td>\n",
       "      <td>Africa</td>\n",
       "      <td>0</td>\n",
       "      <td>0.807977</td>\n",
       "      <td>0.192023</td>\n",
       "      <td>all features\\nkept</td>\n",
       "      <td>LR</td>\n",
       "      <td>0.0</td>\n",
       "    </tr>\n",
       "    <tr>\n",
       "      <th>0001_BF01n_BF_URF_SR050_19_18</th>\n",
       "      <td>0</td>\n",
       "      <td>0</td>\n",
       "      <td>results_whole_training_set</td>\n",
       "      <td>ALL</td>\n",
       "      <td>encoded_label</td>\n",
       "      <td>RF</td>\n",
       "      <td>Africa</td>\n",
       "      <td>6</td>\n",
       "      <td>0.904083</td>\n",
       "      <td>0.095917</td>\n",
       "      <td>all features\\nkept</td>\n",
       "      <td>RF</td>\n",
       "      <td>0.0</td>\n",
       "    </tr>\n",
       "    <tr>\n",
       "      <th>0001_BF01n_BF_URF_SR050_19_18</th>\n",
       "      <td>0</td>\n",
       "      <td>0</td>\n",
       "      <td>results_whole_training_set</td>\n",
       "      <td>ALL</td>\n",
       "      <td>encoded_label</td>\n",
       "      <td>FisherBonf2</td>\n",
       "      <td>Africa</td>\n",
       "      <td>0</td>\n",
       "      <td>NaN</td>\n",
       "      <td>NaN</td>\n",
       "      <td>all features\\nkept</td>\n",
       "      <td>B2</td>\n",
       "      <td>0.0</td>\n",
       "    </tr>\n",
       "  </tbody>\n",
       "</table>\n",
       "</div>"
      ],
      "text/plain": [
       "                               pred  real                         dir subtype  \\\n",
       "0001_BF01n_BF_URF_SR050_19_18     0     0  results_whole_training_set     ALL   \n",
       "0001_BF01n_BF_URF_SR050_19_18     0     0  results_whole_training_set     ALL   \n",
       "0001_BF01n_BF_URF_SR050_19_18     0     0  results_whole_training_set     ALL   \n",
       "0001_BF01n_BF_URF_SR050_19_18     0     0  results_whole_training_set     ALL   \n",
       "0001_BF01n_BF_URF_SR050_19_18     0     0  results_whole_training_set     ALL   \n",
       "\n",
       "                                      target        model dataset  num  \\\n",
       "0001_BF01n_BF_URF_SR050_19_18  encoded_label    FisherBH1  Africa    0   \n",
       "0001_BF01n_BF_URF_SR050_19_18  encoded_label           RF  Africa   19   \n",
       "0001_BF01n_BF_URF_SR050_19_18  encoded_label     Logistic  Africa    0   \n",
       "0001_BF01n_BF_URF_SR050_19_18  encoded_label           RF  Africa    6   \n",
       "0001_BF01n_BF_URF_SR050_19_18  encoded_label  FisherBonf2  Africa    0   \n",
       "\n",
       "                                      0         1                task  \\\n",
       "0001_BF01n_BF_URF_SR050_19_18       NaN       NaN  all features\\nkept   \n",
       "0001_BF01n_BF_URF_SR050_19_18  0.904281  0.095719  all features\\nkept   \n",
       "0001_BF01n_BF_URF_SR050_19_18  0.807977  0.192023  all features\\nkept   \n",
       "0001_BF01n_BF_URF_SR050_19_18  0.904083  0.095917  all features\\nkept   \n",
       "0001_BF01n_BF_URF_SR050_19_18       NaN       NaN  all features\\nkept   \n",
       "\n",
       "                              shorthand  hasDRM  \n",
       "0001_BF01n_BF_URF_SR050_19_18       BH1     0.0  \n",
       "0001_BF01n_BF_URF_SR050_19_18        RF     0.0  \n",
       "0001_BF01n_BF_URF_SR050_19_18        LR     0.0  \n",
       "0001_BF01n_BF_URF_SR050_19_18        RF     0.0  \n",
       "0001_BF01n_BF_URF_SR050_19_18        B2     0.0  "
      ]
     },
     "execution_count": 40,
     "metadata": {},
     "output_type": "execute_result"
    }
   ],
   "source": [
    "cleaned_probas = subset_probas[\n",
    "    ~((subset_probas['task'] == task_order[-1]) & \n",
    "    (subset_probas['hasDRM'] == 1))\n",
    "]\n",
    "cleaned_probas.head()"
   ]
  },
  {
   "cell_type": "code",
   "execution_count": 41,
   "metadata": {},
   "outputs": [],
   "source": [
    "def get_brier(df):\n",
    "    model = df['shorthand'].iloc[0]\n",
    "    if model not in ['NB', 'LR', 'RF']:\n",
    "        return brier_score_loss(df['real'], df['pred'])\n",
    "    else:\n",
    "        return brier_score_loss(df['real'], df['1'])\n",
    "\n",
    "def get_agnostic_brier(df):\n",
    "    frequencies = {\n",
    "        'all features\\nkept':\n",
    "            {'ALL':0.2452, 'B':0.2301, 'C':0.2773},\n",
    "        'DRM features\\nremoved':\n",
    "            {'ALL':0.2452, 'B':0.2301, 'C':0.2773},\n",
    "        'DRM features &\\nDRM sequences\\nremoved':\n",
    "            {'ALL':0.1864, 'B':0.1729, 'C':0.2116}\n",
    "    }\n",
    "    subtype = df['subtype'].iloc[0]\n",
    "    task = df['task'].iloc[0]\n",
    "    return brier_score_loss(df['real'], [frequencies[task][subtype] for _ in df.index])\n"
   ]
  },
  {
   "cell_type": "code",
   "execution_count": 42,
   "metadata": {},
   "outputs": [
    {
     "name": "stderr",
     "output_type": "stream",
     "text": [
      "/usr/local/Caskroom/miniconda/base/envs/HIV/lib/python3.7/site-packages/ipykernel_launcher.py:4: FutureWarning: Sorting because non-concatenation axis is not aligned. A future version\n",
      "of pandas will change to not sort by default.\n",
      "\n",
      "To accept the future behavior, pass 'sort=False'.\n",
      "\n",
      "To retain the current behavior and silence the warning, pass 'sort=True'.\n",
      "\n",
      "  after removing the cwd from sys.path.\n"
     ]
    }
   ],
   "source": [
    "model_score = subset_probas.groupby(grouper+['num']).apply(get_brier).rename('brier').reset_index()\n",
    "random_score = subset_probas[subset_probas['shorthand']=='NB'].groupby(grouper).apply(get_agnostic_brier).rename('brier').reset_index()\n",
    "random_score['shorthand'] = 'RD'\n",
    "scores_proba = pd.concat([model_score, random_score])\n",
    "scores_proba['group'] = scores_proba['task'] + ' ' + scores_proba['subtype']"
   ]
  },
  {
   "cell_type": "markdown",
   "metadata": {},
   "source": [
    "## Plot preparation"
   ]
  },
  {
   "cell_type": "code",
   "execution_count": 43,
   "metadata": {},
   "outputs": [],
   "source": [
    "\n",
    "models = ['NB', 'LR', 'RF', 'FC']\n",
    "subtypes = ['ALL', 'B', 'C']\n",
    "subtype_labels = {\n",
    "    'ALL': 'trained on UK B&C,\\ntested on Africa',\n",
    "    'B': 'trained on UK B,\\ntested on UK C',\n",
    "    'C': 'trained on UK C,\\ntested on UK B'\n",
    "}"
   ]
  },
  {
   "cell_type": "code",
   "execution_count": 44,
   "metadata": {},
   "outputs": [],
   "source": [
    "colors = [color for color in sns.palettes.color_palette('muted') for _ in range(3)]\n",
    "hue_order = [f\"{task} {sub}\" for task in task_order for sub in subtypes]"
   ]
  },
  {
   "cell_type": "code",
   "execution_count": 45,
   "metadata": {},
   "outputs": [],
   "source": [
    "repeats = {'big': 3, 'small':4}\n",
    "patterns = {k:{'B':'/'*n, 'C': '\\\\'*n} for k,n in repeats.items()} \n",
    "hatches = [patterns['big'].get(sub, None) for task in task_order for sub in subtypes for model in models]\n",
    "small_hatches = [patterns['small'].get(sub, None) for task in task_order for sub in subtypes for model in models]\n",
    "models_ext = models + ['RD']\n",
    "hatches_ext = [patterns.get(sub, None) for task in task_order for sub in subtypes for model in models_ext]"
   ]
  },
  {
   "cell_type": "code",
   "execution_count": 46,
   "metadata": {},
   "outputs": [],
   "source": [
    "sns.set_context('poster')\n",
    "sns.set_palette('muted')"
   ]
  },
  {
   "cell_type": "code",
   "execution_count": 47,
   "metadata": {},
   "outputs": [],
   "source": [
    "def get_legend(gen_label=False, context='notebook'):\n",
    "    with sns.plotting_context(context):\n",
    "        tasks = ['all features\\nkept\\n', 'RAM features\\nremoved\\n', 'RAM features &\\nRAM sequences\\nremoved']\n",
    "        h1 = [Patch(facecolor=color, label=task, edgecolor='black') for task, color in zip(tasks, sns.color_palette())]\n",
    "        h2 = [Patch(facecolor=\"white\",label=subtype_labels.get(subtype),hatch=patterns['small'].get(subtype, \"\"), \n",
    "                edgecolor='black',) for subtype in subtypes]\n",
    "        l = Line2D([0], [0], color='red', label=\"expected value\\nfor null classifier\\n\")\n",
    "        e = Patch(color='white', label=\"\")\n",
    "        labels = [Patch(color=\"white\", label=\"signal removal:\\n\\n\"), Patch(color=\"white\", label=\"training scenario:\\n\")]\n",
    "    (ncol, handles) = (5, labels) if gen_label else (4, [])\n",
    "    return (ncol, \n",
    "        handles + [h1[0], h2[0]] + [h1[1], h2[1]] + [h1[2], h2[2]] + [l, e]\n",
    "    )"
   ]
  },
  {
   "cell_type": "markdown",
   "metadata": {},
   "source": [
    "# Plotting scores"
   ]
  },
  {
   "cell_type": "code",
   "execution_count": 48,
   "metadata": {},
   "outputs": [],
   "source": [
    "def get_subplot(to_plot, ylabel, annots=None, x='shorthand', y='value', hue='group', order=models, palette=colors, hue_order=hue_order, hatches=hatches, ax=None, title=\"\", title_args=dict(), yticks=None, ylim=None, log=False, xlabel=\"Classifier\"):\n",
    "    \n",
    "    kwargs={'ax':ax} if ax is not None else {}\n",
    "        \n",
    "    ax = sns.barplot(\n",
    "        data=to_plot, \n",
    "        x=x, \n",
    "        y=y,\n",
    "        hue=hue, \n",
    "        order=order,\n",
    "        hue_order=hue_order, \n",
    "        palette=palette, \n",
    "        # lw=1.2,\n",
    "        edgecolor='black',\n",
    "        ci=None,\n",
    "        **kwargs\n",
    "    )\n",
    "    if annots is None:\n",
    "        annots = [\"\" for _ in hatches]\n",
    "    for patch, hatch, annot in zip(ax.patches, hatches, annots):\n",
    "        x, y = patch.get_x(), patch.get_y()\n",
    "        width, height = patch.get_width(), patch.get_height()\n",
    "\n",
    "        if annot == \"*\":\n",
    "            x_text = x + width / 2\n",
    "            if log:\n",
    "                y_text = (y + height) * 1.05\n",
    "            else:\n",
    "                y_text = (y + height) + 0.01\n",
    "            ax.text(x_text, y_text, annot, ha='center')\n",
    "        if hatch is None:\n",
    "            continue \n",
    "        patch.set_hatch(hatch)\n",
    "\n",
    "    sns.despine()\n",
    "    ax.set_xlabel(xlabel)\n",
    "    ax.set_ylabel(ylabel)\n",
    "    ax.get_legend().remove()\n",
    "    ax.set_title(title, **title_args)\n",
    "    if yticks is not None:\n",
    "        ax.set_yticks(yticks)\n",
    "    if log:\n",
    "        ax.set_yscale('log')\n",
    "    if ylim is not None:\n",
    "        ax.set_ylim(ylim)\n",
    "    return ax"
   ]
  },
  {
   "cell_type": "code",
   "execution_count": 49,
   "metadata": {
    "tags": []
   },
   "outputs": [
    {
     "data": {
      "image/png": "[encoded data removed]",
      "text/plain": [
       "<Figure size 597.6x417.6 with 4 Axes>"
      ]
     },
     "metadata": {
      "needs_background": "light"
     },
     "output_type": "display_data"
    }
   ],
   "source": [
    "sns.set_context('paper')\n",
    "mpl.rcParams['hatch.linewidth'] = 0.4\n",
    "fig = plt.figure(figsize=(8.3, 5.8))\n",
    "annots_cleaned = [\"*\" if corrected_cleaned['bonferroni'].get((sub, task, model), False) else \"\" \n",
    "                    for task in task_order for sub in subtypes for model in models]\n",
    "title_args = {'loc':'left', 'fontweight':'bold', 'pad':0}\n",
    "ami_ticks = np.linspace(0, 0.55, 12)\n",
    "acc_ticks = np.linspace(0.5, 0.9, 5)\n",
    "brier_ticks = np.linspace(0, 0.4, 5)\n",
    "\n",
    "to_plot_AMI = melted_cleaned[(melted_cleaned['shorthand'].isin(models)) & (melted_cleaned['variable'] == 'AMI')]\n",
    "to_plot_bal = melted_cleaned[(melted_cleaned['shorthand'].isin(models)) & (melted_cleaned['variable'] == 'bal acc')]\n",
    "to_plot_brier = scores_proba[(scores_proba['shorthand'].isin(models + ['RD'])) & (scores_proba['subtype'] == 'ALL')]\n",
    "\n",
    "with sns.axes_style('white', {'grid.color':'.8', 'axes.grid':True, 'ytick.left':True}):\n",
    "    ax1 = plt.subplot2grid((12, 5), (0, 0), colspan=3, rowspan=11)\n",
    "    get_subplot(to_plot_AMI, 'Adjusted Mutual Information (log scale)', annots=annots_cleaned, ax=ax1, title='  a)', \n",
    "                title_args=title_args, yticks=ami_ticks, ylim=(1e-3, 1.5), log=True, xlabel=\"\")\n",
    "    ax2 = plt.subplot2grid((12, 5), (0, 3), colspan=2, rowspan=5)\n",
    "    ax3 = plt.subplot2grid((12, 5), (6, 3), colspan=2, rowspan=5)\n",
    "    ax2.axhline(y=0.5, ls='-', color='red', zorder=0.9, lw=2)\n",
    "    ax2.get_yticklabels()[0].set_color(\"red\")\n",
    "    ax2.get_yticklines()[0].set_color(\"red\")\n",
    "    get_subplot(to_plot_bal, 'Balanced Accuracy', ax=ax2, title='  b)', title_args=title_args, \n",
    "                yticks=acc_ticks, hatches=small_hatches, ylim=(0.45,0.95), xlabel=\"\")\n",
    "    get_subplot(to_plot_brier, 'Brier Score', ax=ax3, title='  c)', title_args=title_args, \n",
    "                hue_order=[hue_order[i] for i in [0,3,6]], hatches=[], y='brier', palette=sns.color_palette(),\n",
    "                order=models + ['RD'], ylim=(0, 0.45), yticks=brier_ticks, xlabel=\"\")\n",
    "\n",
    "ax1.grid(b=True, which='minor', color='.8', lw=0.2)\n",
    "\n",
    "ax4 = plt.subplot2grid((12, 5), (11, 0), colspan=5)\n",
    "ax4.axis('off')\n",
    "ncol, handles = get_legend()\n",
    "ax4.legend(handles=handles, ncol=ncol,  bbox_to_anchor=(0.5, -0.5), loc='upper center', borderaxespad=0, frameon=False)\n",
    "\n",
    "plt.subplots_adjust(wspace=0.7)\n",
    "plt.savefig(os.path.join(dirname, 'perf_log_tight.pdf'), format='pdf', alpha=.99, bbox_inches='tight')\n",
    "plt.savefig(os.path.join(dirname, 'perf_log_tight.eps'), format='eps', alpha=.99, bbox_inches='tight')"
   ]
  },
  {
   "cell_type": "code",
   "execution_count": null,
   "metadata": {},
   "outputs": [],
   "source": []
  }
 ],
 "metadata": {
  "kernelspec": {
   "display_name": "Python 3",
   "language": "python",
   "name": "python3"
  },
  "language_info": {
   "codemirror_mode": {
    "name": "ipython",
    "version": 3
   },
   "file_extension": ".py",
   "mimetype": "text/x-python",
   "name": "python",
   "nbconvert_exporter": "python",
   "pygments_lexer": "ipython3",
   "version": "3.7.6"
  }
 },
 "nbformat": 4,
 "nbformat_minor": 2
}
