{
 "cells": [
  {
   "cell_type": "code",
   "execution_count": 2,
   "metadata": {},
   "outputs": [],
   "source": [
    "import os\n",
    "os.chdir('/Users/lucblassel')"
   ]
  },
  {
   "cell_type": "code",
   "execution_count": 3,
   "metadata": {},
   "outputs": [],
   "source": [
    "import pandas as pd \n",
    "from Bio import SeqIO \n",
    "from Bio.Data import CodonTable\n",
    "from itertools import product"
   ]
  },
  {
   "cell_type": "code",
   "execution_count": 4,
   "metadata": {
    "tags": []
   },
   "outputs": [],
   "source": [
    "datadir = \"Documents/Work/hiv-drm-detection/data_pre_split/HIVDB_data/\""
   ]
  },
  {
   "cell_type": "code",
   "execution_count": 55,
   "metadata": {},
   "outputs": [],
   "source": [
    "genetic_code = CodonTable.unambiguous_dna_by_name.get(\"Standard\").forward_table"
   ]
  },
  {
   "cell_type": "code",
   "execution_count": 155,
   "metadata": {},
   "outputs": [],
   "source": [
    "muts = {\n",
    "    135: [\"I\", \"L\",],\n",
    "    203: [\"E\", \"K\",],\n",
    "    208: [\"H\", \"Y\",],\n",
    "    218: [\"D\", \"E\",],\n",
    "    228: [\"L\", \"R\", \"H\",],\n",
    "}"
   ]
  },
  {
   "cell_type": "code",
   "execution_count": 156,
   "metadata": {},
   "outputs": [],
   "source": [
    "muts_tuples = {\n",
    "    135: [(\"I\", \"L\"),],\n",
    "    203: [(\"E\", \"K\"),],\n",
    "    208: [(\"H\", \"Y\"),],\n",
    "    218: [(\"D\", \"E\"),],\n",
    "    228: [(\"L\", \"R\"), (\"L\", \"H\"),],\n",
    "}"
   ]
  },
  {
   "cell_type": "code",
   "execution_count": 56,
   "metadata": {
    "tags": []
   },
   "outputs": [],
   "source": [
    "def translate(codon):\n",
    "    return (codon.upper(), genetic_code.get(codon.upper(), (lambda x: \"-\" if x == \"---\" else \"X\")(codon)))"
   ]
  },
  {
   "cell_type": "code",
   "execution_count": 96,
   "metadata": {},
   "outputs": [],
   "source": [
    "def merge_dicts(dicts):\n",
    "    d = {}\n",
    "    for dict_ in dicts:\n",
    "        d = {**d, **dict_}\n",
    "    return d"
   ]
  },
  {
   "cell_type": "code",
   "execution_count": 152,
   "metadata": {},
   "outputs": [],
   "source": [
    "def hamming(s1, s2):\n",
    "    return sum(\n",
    "        c1 != c2\n",
    "        for c1, c2 in \n",
    "        zip(s1.upper(), s2.upper())\n",
    "    )\n",
    "\n",
    "def get_weighted_distance(counts, start_aa, end_aa):\n",
    "    crossed = product(\n",
    "        counts.loc[start_aa].iteritems(),\n",
    "        counts.loc[end_aa].iteritems()\n",
    "    )\n",
    "\n",
    "    return sum(\n",
    "        hamming(s1, s2) * w1 * w2\n",
    "        for (s1, w1), (s2, w2) in crossed\n",
    "    )"
   ]
  },
  {
   "cell_type": "markdown",
   "metadata": {},
   "source": [
    "# Checking codons in new mutations in UK sequences"
   ]
  },
  {
   "cell_type": "code",
   "execution_count": 57,
   "metadata": {},
   "outputs": [],
   "source": [
    "alignmentCodons = {\n",
    "    record.id: [\n",
    "        (i + 1 , *translate(str(record[j:j+3].seq).upper()))\n",
    "        for i, j in enumerate(range(0, len(record), 3))\n",
    "        ]\n",
    "    for record in SeqIO.parse(os.path.join(datadir, \"UK\", \"total_RT.fa\"), format=\"fasta\")\n",
    "}"
   ]
  },
  {
   "cell_type": "code",
   "execution_count": 106,
   "metadata": {},
   "outputs": [],
   "source": [
    "interest = pd.DataFrame({\n",
    "    k:merge_dicts([dict(**{f\"{pos} codon\": codon}, \n",
    "         **{f\"{pos} AA\": aa})\n",
    "    for pos, codon, aa in codons\n",
    "    if pos in muts])\n",
    "    for k,codons in alignmentCodons.items()\n",
    "}).transpose()\n"
   ]
  },
  {
   "cell_type": "code",
   "execution_count": 125,
   "metadata": {
    "tags": []
   },
   "outputs": [],
   "source": [
    "codonCounts = {}\n",
    "for pos, aas in muts.items():\n",
    "    codonCounts[pos] = (\n",
    "        interest[interest[f\"{pos} AA\"].isin(aas)]\n",
    "            .groupby(f\"{pos} AA\")\n",
    "            [f\"{pos} codon\"]\n",
    "            .apply(lambda x: x.value_counts(normalize=True))\n",
    "    )"
   ]
  },
  {
   "cell_type": "code",
   "execution_count": 158,
   "metadata": {},
   "outputs": [],
   "source": [
    "dists = {}\n",
    "for pos, tuples in muts_tuples.items():\n",
    "    for start, end in tuples:\n",
    "        dists[f\"{start}{pos}{end}\"] = get_weighted_distance(codonCounts[pos], start, end)"
   ]
  },
  {
   "cell_type": "code",
   "execution_count": 160,
   "metadata": {},
   "outputs": [
    {
     "output_type": "execute_result",
     "data": {
      "text/plain": "{'I135L': '1.16',\n 'E203K': '1.31',\n 'H208Y': '1.10',\n 'D218E': '1.00',\n 'L228R': '1.16',\n 'L228H': '1.12'}"
     },
     "metadata": {},
     "execution_count": 160
    }
   ],
   "source": [
    "{k:f\"{v:.2f}\" for k,v in dists.items()}"
   ]
  },
  {
   "cell_type": "markdown",
   "metadata": {},
   "source": [
    "# Redo on African sequences"
   ]
  },
  {
   "cell_type": "code",
   "execution_count": 161,
   "metadata": {},
   "outputs": [],
   "source": [
    "alignmentCodonsAfrica = {\n",
    "    record.id: [\n",
    "        (i + 1 , *translate(str(record[j:j+3].seq).upper()))\n",
    "        for i, j in enumerate(range(0, len(record), 3))\n",
    "        ]\n",
    "    for record in SeqIO.parse(os.path.join(datadir, \"Africa\", \"total_gaps.fa\"), format=\"fasta\")\n",
    "}"
   ]
  },
  {
   "cell_type": "code",
   "execution_count": 162,
   "metadata": {},
   "outputs": [],
   "source": [
    "interestAfrica = pd.DataFrame({\n",
    "    k:merge_dicts([dict(**{f\"{pos} codon\": codon}, \n",
    "         **{f\"{pos} AA\": aa})\n",
    "    for pos, codon, aa in codons\n",
    "    if pos in muts])\n",
    "    for k,codons in alignmentCodonsAfrica.items()\n",
    "}).transpose()"
   ]
  },
  {
   "cell_type": "code",
   "execution_count": 163,
   "metadata": {},
   "outputs": [],
   "source": [
    "codonCountsAfrica = {}\n",
    "for pos, aas in muts.items():\n",
    "    codonCountsAfrica[pos] = (\n",
    "        interestAfrica[interestAfrica[f\"{pos} AA\"].isin(aas)]\n",
    "            .groupby(f\"{pos} AA\")\n",
    "            [f\"{pos} codon\"]\n",
    "            .apply(lambda x: x.value_counts(normalize=True))\n",
    "    )"
   ]
  },
  {
   "cell_type": "code",
   "execution_count": 164,
   "metadata": {},
   "outputs": [],
   "source": [
    "distsAfrica = {}\n",
    "for pos, tuples in muts_tuples.items():\n",
    "    for start, end in tuples:\n",
    "        distsAfrica[f\"{start}{pos}{end}\"] = get_weighted_distance(codonCountsAfrica[pos], start, end)"
   ]
  },
  {
   "cell_type": "code",
   "execution_count": 165,
   "metadata": {},
   "outputs": [
    {
     "output_type": "execute_result",
     "data": {
      "text/plain": "{'I135L': '1.13',\n 'E203K': '1.33',\n 'H208Y': '1.12',\n 'D218E': '1.00',\n 'L228R': '1.21',\n 'L228H': '1.17'}"
     },
     "metadata": {},
     "execution_count": 165
    }
   ],
   "source": [
    "{k:f\"{v:.2f}\" for k,v in distsAfrica.items()}"
   ]
  },
  {
   "cell_type": "code",
   "execution_count": null,
   "metadata": {},
   "outputs": [],
   "source": []
  }
 ],
 "metadata": {
  "language_info": {
   "codemirror_mode": {
    "name": "ipython",
    "version": 3
   },
   "file_extension": ".py",
   "mimetype": "text/x-python",
   "name": "python",
   "nbconvert_exporter": "python",
   "pygments_lexer": "ipython3",
   "version": "3.7.6-final"
  },
  "orig_nbformat": 2,
  "kernelspec": {
   "name": "python3",
   "display_name": "Python 3"
  }
 },
 "nbformat": 4,
 "nbformat_minor": 2
}